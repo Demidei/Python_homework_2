{
 "cells": [
  {
   "attachments": {},
   "cell_type": "markdown",
   "metadata": {},
   "source": [
    "## Условие 2:\n",
    "## На складе лежат разные фрукты в разном количестве.\n",
    "Нужно написать функцию, которая на вход принимает любое количество названий фруктов и их количество, а возвращает общее количество фруктов на складе"
   ]
  },
  {
   "cell_type": "code",
   "execution_count": 57,
   "metadata": {},
   "outputs": [
    {
     "name": "stdout",
     "output_type": "stream",
     "text": [
      "15\n"
     ]
    }
   ],
   "source": [
    "def calc(**kwargs):\n",
    "    s=0\n",
    "    for key, value in kwargs.items():\n",
    "        s+=value\n",
    "    return s\n",
    "\n",
    "\n",
    "print(calc(bananas=7, apples=8))\n",
    "\n"
   ]
  },
  {
   "attachments": {},
   "cell_type": "markdown",
   "metadata": {},
   "source": [
    "## Условие 3:\n",
    "## Дан список с затратами на рекламу. Но в данных есть ошибки, некоторые затраты имеют отрицательную величину. Удалите такие значения из списка и посчитайте суммарные затраты [100, 125, -90, 345, 655, -1, 0, 200] Используйте list comprehensions"
   ]
  },
  {
   "cell_type": "code",
   "execution_count": 58,
   "metadata": {},
   "outputs": [
    {
     "name": "stdout",
     "output_type": "stream",
     "text": [
      "Исправленный список - [100, 125, 345, 655, 0, 200]\n",
      "Суммарные затраты - 1425\n"
     ]
    }
   ],
   "source": [
    "\n",
    "\n",
    "def list_analysator_ex3(expenses: list) -> list:\n",
    "    newlist = [x for x in expenses if x >= 0]\n",
    "    return newlist\n",
    "\n",
    "\n",
    "my_list = [100, 125, -90, 345, 655, -1, 0, 200]\n",
    "\n",
    "print(\"Исправленный список -\", list_analysator_ex3(my_list))\n",
    "print(\"Суммарные затраты -\", sum(list_analysator_ex3(my_list)))\n"
   ]
  },
  {
   "attachments": {},
   "cell_type": "markdown",
   "metadata": {},
   "source": [
    "## Условие 4:\n",
    "## Даны два списка.\n",
    "Дата покупки\n",
    "['2021-09-14', '2021-12-15', '2021-09-08', '2021-12-05', '2021-10-09', '2021-09-30', '2021-12-22', '2021-11-29', '2021-12-24', '2021-11-26', '2021-10-27', '2021-12-18', '2021-11-09', '2021-11-23', '2021-09-27', '2021-10-02', '2021-12-27', '2021-09-20', '2021-12-13', '2021-11-01', '2021-11-09', '2021-12-06', '2021-12-08', '2021-10-09', '2021-10-31', '2021-09-30', '2021-11-09', '2021-12-13', '2021-10-26', '2021-12-09']\n",
    "Суммы покупок по датам\n",
    "[1270, 8413, 9028, 3703, 5739, 4095, 295, 4944, 5723, 3701, 4471, 651, 7037, 4274, 6275, 4988, 6930, 2971, 6592, 2004, 2822, 519, 3406, 2732, 5015, 2008, 316, 6333, 5700, 2887]"
   ]
  },
  {
   "attachments": {},
   "cell_type": "markdown",
   "metadata": {},
   "source": [
    "### Условие 4.1:\n",
    "### Найдите, какая выручка у компании в ноябре Используйте list comprehensions"
   ]
  },
  {
   "cell_type": "code",
   "execution_count": 59,
   "metadata": {},
   "outputs": [
    {
     "name": "stdout",
     "output_type": "stream",
     "text": [
      "25098\n"
     ]
    }
   ],
   "source": [
    "\n",
    "def money_month_calc(dates: list, money: list, month):\n",
    "    month = \"-\"+str(month)+\"-\"\n",
    "    templist = [x for x in money if dates[money.index(x)].find(month) > -1]\n",
    "    return sum(templist)\n",
    "\n",
    "\n",
    "date = ['2021-09-14', '2021-12-15', '2021-09-08', '2021-12-05', '2021-10-09', '2021-09-30', '2021-12-22', '2021-11-29', '2021-12-24', '2021-11-26', '2021-10-27', '2021-12-18', '2021-11-09', '2021-11-23', '2021-09-27',\n",
    "        '2021-10-02', '2021-12-27', '2021-09-20', '2021-12-13', '2021-11-01', '2021-11-09', '2021-12-06', '2021-12-08', '2021-10-09', '2021-10-31', '2021-09-30', '2021-11-09', '2021-12-13', '2021-10-26', '2021-12-09']\n",
    "money = [1270, 8413, 9028, 3703, 5739, 4095, 295, 4944, 5723, 3701, 4471, 651, 7037, 4274,\n",
    "         6275, 4988, 6930, 2971, 6592, 2004, 2822, 519, 3406, 2732, 5015, 2008, 316, 6333, 5700, 2887]\n",
    "\n",
    "print(money_month_calc(date, money, 11))\n"
   ]
  },
  {
   "attachments": {},
   "cell_type": "markdown",
   "metadata": {},
   "source": [
    "### Условие 4.2:\n",
    "### 4.2 Найдите выручку компании в зависимости от месяца Для этого напишите функцию, которая на вход принимает список с датами и список с выручкой, а на выходе словарь, где ключи - это месяцы, а значения - это выручка. Используйте аннотирование типов."
   ]
  },
  {
   "cell_type": "code",
   "execution_count": 35,
   "metadata": {},
   "outputs": [
    {
     "name": "stdout",
     "output_type": "stream",
     "text": [
      "{'09': 25647, '10': 28645, '11': 25098, '12': 45452}\n"
     ]
    }
   ],
   "source": [
    "def money_for_month1(dates: list, money: list)-> dict:\n",
    "    month=sorted(set( [i[5:7] for i in dates] ))\n",
    "    new_dict ={y: sum([x for x in money if dates[money.index(x)].find(\"-\"+y+\"-\") > -1]) for y in month}\n",
    "    return (new_dict)\n",
    "\n",
    "\n",
    "\n",
    "print(money_for_month1(date, money))\n",
    "\n"
   ]
  },
  {
   "attachments": {},
   "cell_type": "markdown",
   "metadata": {},
   "source": [
    "Но можно и просто формально объявить наши месяца"
   ]
  },
  {
   "cell_type": "code",
   "execution_count": 36,
   "metadata": {},
   "outputs": [
    {
     "name": "stdout",
     "output_type": "stream",
     "text": [
      "{'01': 0, '02': 0, '03': 0, '04': 0, '05': 0, '06': 0, '07': 0, '08': 0, '09': 25647, '10': 28645, '11': 25098, '12': 45452}\n"
     ]
    }
   ],
   "source": [
    "def money_for_month2(dates: list, money: list)-> dict:\n",
    "    month=[\"01\",\"02\",\"03\",'04','05','06','07','08','09',\"10\",\"11\",'12']\n",
    "    templist ={y: sum([x for x in money if dates[money.index(x)].find(\"-\"+y+\"-\") > -1]) for y in month}\n",
    "    return (templist)\n",
    "\n",
    "\n",
    "print(money_for_month2(date, money))\n"
   ]
  }
 ],
 "metadata": {
  "kernelspec": {
   "display_name": "Python 3",
   "language": "python",
   "name": "python3"
  },
  "language_info": {
   "codemirror_mode": {
    "name": "ipython",
    "version": 3
   },
   "file_extension": ".py",
   "mimetype": "text/x-python",
   "name": "python",
   "nbconvert_exporter": "python",
   "pygments_lexer": "ipython3",
   "version": "3.10.10"
  },
  "orig_nbformat": 4
 },
 "nbformat": 4,
 "nbformat_minor": 2
}
